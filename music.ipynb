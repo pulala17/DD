{
 "cells": [
  {
   "cell_type": "code",
   "execution_count": 40,
   "id": "994dba0c",
   "metadata": {},
   "outputs": [
    {
     "name": "stderr",
     "output_type": "stream",
     "text": [
      "D:\\Python\\lib\\site-packages\\sklearn\\base.py:450: UserWarning: X does not have valid feature names, but DecisionTreeClassifier was fitted with feature names\n",
      "  warnings.warn(\n"
     ]
    },
    {
     "data": {
      "text/plain": [
       "array(['Hiphop', 'Dance'], dtype=object)"
      ]
     },
     "execution_count": 40,
     "metadata": {},
     "output_type": "execute_result"
    }
   ],
   "source": [
    "import pandas as pd\n",
    "\n",
    "from sklearn.tree import DecisionTreeClassifier       # fit, predict\n",
    "from sklearn.model_selection import train_test_split   # split test\n",
    "\n",
    "# import data set-----\n",
    "music_data = pd.read_csv('music.csv')\n",
    "X = music_data.drop(columns=['genre'])\n",
    "y = music_data['genre']\n",
    "\n",
    "# create a model----\n",
    "model = DecisionTreeClassifier()\n",
    "\n",
    "# train the model-----\n",
    "model.fit(X,y)\n",
    "\n",
    "# ask it to make predictions-----\n",
    "predictions = model.predict([ [21, 1], [22, 0] ])  #21 yrs boy & 22 yrs girl\n",
    "predictions \n"
   ]
  },
  {
   "cell_type": "code",
   "execution_count": 41,
   "id": "23292735",
   "metadata": {},
   "outputs": [
    {
     "data": {
      "text/plain": [
       "0.25"
      ]
     },
     "execution_count": 41,
     "metadata": {},
     "output_type": "execute_result"
    }
   ],
   "source": [
    "import pandas as pd\n",
    "\n",
    "from sklearn.tree import DecisionTreeClassifier       # fit, predict\n",
    "from sklearn.model_selection import train_test_split   # split test\n",
    "from sklearn.metrics import accuracy_score\n",
    "\n",
    "# import data set-----\n",
    "music_data = pd.read_csv('music.csv')\n",
    "X = music_data.drop(columns=['genre'])\n",
    "y = music_data['genre']\n",
    "\n",
    "X_train, X_test, y_train, y_test = train_test_split(X, y, test_size=0.2)  # return a tuple\n",
    "\n",
    "# create a model----\n",
    "model = DecisionTreeClassifier()\n",
    "\n",
    "# train the model-----\n",
    "model.fit(X_train, y_train)\n",
    "\n",
    "# ask it to make predictions-----\n",
    "predictions = model.predict(X_test)\n",
    "\n",
    "score = accuracy_score(y_test, predictions)\n",
    "score"
   ]
  },
  {
   "cell_type": "code",
   "execution_count": 42,
   "id": "4033a4cc",
   "metadata": {},
   "outputs": [
    {
     "data": {
      "text/plain": [
       "['music-recommender.joblib']"
      ]
     },
     "execution_count": 42,
     "metadata": {},
     "output_type": "execute_result"
    }
   ],
   "source": [
    "import pandas as pd\n",
    "\n",
    "from sklearn.tree import DecisionTreeClassifier       # fit, predict\n",
    "from sklearn.model_selection import train_test_split   # split test\n",
    "import joblib  \n",
    "\n",
    "# import data set-----\n",
    "music_data = pd.read_csv('music.csv')\n",
    "X = music_data.drop(columns=['genre'])\n",
    "y = music_data['genre']\n",
    "\n",
    "# create a model----\n",
    "model = DecisionTreeClassifier()\n",
    "\n",
    "# train the model-----\n",
    "model.fit(X,y)\n",
    "\n",
    "# store train model in a file\n",
    "joblib.dump(model, 'music-recommender.joblib')\n"
   ]
  },
  {
   "cell_type": "code",
   "execution_count": 43,
   "id": "87750f03",
   "metadata": {},
   "outputs": [
    {
     "name": "stderr",
     "output_type": "stream",
     "text": [
      "D:\\Python\\lib\\site-packages\\sklearn\\base.py:450: UserWarning: X does not have valid feature names, but DecisionTreeClassifier was fitted with feature names\n",
      "  warnings.warn(\n"
     ]
    },
    {
     "data": {
      "text/plain": [
       "array(['Hiphop'], dtype=object)"
      ]
     },
     "execution_count": 43,
     "metadata": {},
     "output_type": "execute_result"
    }
   ],
   "source": [
    "import pandas as pd\n",
    "\n",
    "from sklearn.tree import DecisionTreeClassifier       # fit, predict\n",
    "from sklearn.model_selection import train_test_split   # split test\n",
    "import joblib  \n",
    "\n",
    "# load train model \n",
    "model = joblib.load('music-recommender.joblib')\n",
    "predictions = model.predict([[21,1]])\n",
    "predictions"
   ]
  },
  {
   "cell_type": "code",
   "execution_count": 44,
   "id": "b7da8fe2",
   "metadata": {},
   "outputs": [],
   "source": [
    "import pandas as pd\n",
    "\n",
    "from sklearn.tree import DecisionTreeClassifier       # fit, predict\n",
    "from sklearn import tree   # export decision tree in a graphical format\n",
    "\n",
    "# import data set-----\n",
    "music_data = pd.read_csv('music.csv')\n",
    "X = music_data.drop(columns=['genre'])\n",
    "y = music_data['genre']\n",
    "\n",
    "# create a model----\n",
    "model = DecisionTreeClassifier()\n",
    "\n",
    "# train the model-----\n",
    "model.fit(X,y)\n",
    "\n",
    "# export decision tree\n",
    "tree.export_graphviz(model, \n",
    "                     out_file='music-recommender.dot', # dot format, a graph description language\n",
    "                     feature_names=['age','gender'],   # features or columns of data set\n",
    "                     class_names=sorted(y.unique()),   \n",
    "                     label='all',\n",
    "                     rounded=True,\n",
    "                     filled=True)\n"
   ]
  },
  {
   "cell_type": "code",
   "execution_count": null,
   "id": "3e20cf38",
   "metadata": {},
   "outputs": [],
   "source": []
  }
 ],
 "metadata": {
  "kernelspec": {
   "display_name": "Python 3 (ipykernel)",
   "language": "python",
   "name": "python3"
  },
  "language_info": {
   "codemirror_mode": {
    "name": "ipython",
    "version": 3
   },
   "file_extension": ".py",
   "mimetype": "text/x-python",
   "name": "python",
   "nbconvert_exporter": "python",
   "pygments_lexer": "ipython3",
   "version": "3.10.4"
  }
 },
 "nbformat": 4,
 "nbformat_minor": 5
}
